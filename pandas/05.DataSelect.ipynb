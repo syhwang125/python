{
 "cells": [
  {
   "cell_type": "markdown",
   "metadata": {},
   "source": [
    "# 필요한 라이브러리 임포트\n",
    "pandas 라이브러리를 임포트합니다."
   ]
  },
  {
   "cell_type": "code",
   "execution_count": 2,
   "metadata": {},
   "outputs": [],
   "source": [
    "# pandas 라이브러리를 임포트합니다.\n",
    "import pandas as pd"
   ]
  },
  {
   "cell_type": "markdown",
   "metadata": {},
   "source": [
    "# score.txt 파일 읽기\n",
    "pandas의 read_csv 함수를 사용하여 score.txt 파일을 읽습니다."
   ]
  },
  {
   "cell_type": "code",
   "execution_count": 3,
   "metadata": {},
   "outputs": [
    {
     "data": {
      "text/plain": [
       "0    197\n",
       "1    184\n",
       "2    168\n",
       "3    198\n",
       "4    186\n",
       "Name: 키, dtype: int64"
      ]
     },
     "execution_count": 3,
     "metadata": {},
     "output_type": "execute_result"
    }
   ],
   "source": [
    "# score.txt 파일 읽기\n",
    "df = pd.read_csv('score.txt', delimiter='\\t')  # score.txt 파일을 읽습니다.\n",
    "height_data = df['키']  # '키' 칼럼의 데이터를 읽어옵니다.\n",
    "height_data.head()  # 데이터의 일부를 출력합니다."
   ]
  },
  {
   "cell_type": "markdown",
   "metadata": {},
   "source": [
    "# '키' 칼럼 데이터 추출\n",
    "데이터프레임에서 '키' 칼럼의 데이터를 추출합니다."
   ]
  },
  {
   "cell_type": "code",
   "execution_count": null,
   "metadata": {},
   "outputs": [],
   "source": [
    "# '키' 칼럼 데이터 추출\n",
    "height_data = df['키']  # '키' 칼럼의 데이터를 읽어옵니다.\n",
    "height_data.head()  # 데이터의 일부를 출력합니다."
   ]
  }
 ],
 "metadata": {
  "kernelspec": {
   "display_name": "Python 3",
   "language": "python",
   "name": "python3"
  },
  "language_info": {
   "codemirror_mode": {
    "name": "ipython",
    "version": 3
   },
   "file_extension": ".py",
   "mimetype": "text/x-python",
   "name": "python",
   "nbconvert_exporter": "python",
   "pygments_lexer": "ipython3",
   "version": "3.8.3"
  }
 },
 "nbformat": 4,
 "nbformat_minor": 2
}
