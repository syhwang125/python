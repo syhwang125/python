{
 "cells": [
  {
   "cell_type": "markdown",
   "metadata": {},
   "source": [
    "4.파일 저장 및 열기\n",
    "#Data Frame 객체를 excel, csv, txt 등 형태의 파일로 저장 "
   ]
  },
  {
   "cell_type": "code",
   "execution_count": 4,
   "metadata": {},
   "outputs": [],
   "source": [
    "import pandas as pd \n",
    "data = {\n",
    "    '이름' : ['채치수', '정대만', '홍길동', '김갑수'],\n",
    "    '학교' : ['북산고', '북산고', '서울고', '서울고'],\n",
    "    '키' : ['190','180','70','80'],\n",
    "    '국어' : ['90','80','70','80'],\n",
    "    '영어' : ['90','80','70','80'],\n",
    "    '수학' : ['90','80','70','80'],\n",
    "    '특기' : ['자바', '파이썬', '', '자바']\n",
    "}\n",
    "df = pd.DataFrame(data, index=['1번', '2번','3번','4번'])\n",
    "df.index.name = '지원번호'\n",
    "df"
   ]
  },
  {
   "cell_type": "markdown",
   "metadata": {},
   "source": [
    "# 저장하기 \n",
    "csv 파일로 저장"
   ]
  },
  {
   "cell_type": "code",
   "execution_count": 5,
   "metadata": {},
   "outputs": [],
   "source": [
    "df.to_csv('score1.csv', encoding='utf-8-sig')"
   ]
  },
  {
   "cell_type": "code",
   "execution_count": 3,
   "metadata": {},
   "outputs": [],
   "source": [
    "df.to_csv('score.csv', encoding='utf-8-sig', index=False)  #인덱스 제외"
   ]
  },
  {
   "cell_type": "code",
   "execution_count": 4,
   "metadata": {},
   "outputs": [],
   "source": [
    "df.to_csv('score.csv', sep='\\t')   #tab으로 구분된 텍스트 파일 "
   ]
  },
  {
   "cell_type": "code",
   "execution_count": 7,
   "metadata": {},
   "outputs": [
    {
     "data": {
      "text/html": [
       "<div>\n",
       "<style scoped>\n",
       "    .dataframe tbody tr th:only-of-type {\n",
       "        vertical-align: middle;\n",
       "    }\n",
       "\n",
       "    .dataframe tbody tr th {\n",
       "        vertical-align: top;\n",
       "    }\n",
       "\n",
       "    .dataframe thead th {\n",
       "        text-align: right;\n",
       "    }\n",
       "</style>\n",
       "<table border=\"1\" class=\"dataframe\">\n",
       "  <thead>\n",
       "    <tr style=\"text-align: right;\">\n",
       "      <th></th>\n",
       "      <th>2번</th>\n",
       "      <th>정대만</th>\n",
       "      <th>북산고</th>\n",
       "      <th>184</th>\n",
       "      <th>40</th>\n",
       "      <th>35</th>\n",
       "      <th>55</th>\n",
       "      <th>35.1</th>\n",
       "      <th>45</th>\n",
       "      <th>Java</th>\n",
       "    </tr>\n",
       "  </thead>\n",
       "  <tbody>\n",
       "    <tr>\n",
       "      <th>0</th>\n",
       "      <td>3번</td>\n",
       "      <td>송태섭</td>\n",
       "      <td>북산고</td>\n",
       "      <td>168</td>\n",
       "      <td>85</td>\n",
       "      <td>90</td>\n",
       "      <td>75</td>\n",
       "      <td>75</td>\n",
       "      <td>65</td>\n",
       "      <td>JavaScript</td>\n",
       "    </tr>\n",
       "    <tr>\n",
       "      <th>1</th>\n",
       "      <td>4번</td>\n",
       "      <td>서태웅</td>\n",
       "      <td>북산고</td>\n",
       "      <td>198</td>\n",
       "      <td>50</td>\n",
       "      <td>60</td>\n",
       "      <td>80</td>\n",
       "      <td>75</td>\n",
       "      <td>80</td>\n",
       "      <td>NaN</td>\n",
       "    </tr>\n",
       "    <tr>\n",
       "      <th>2</th>\n",
       "      <td>5번</td>\n",
       "      <td>강백호</td>\n",
       "      <td>북산고</td>\n",
       "      <td>186</td>\n",
       "      <td>70</td>\n",
       "      <td>80</td>\n",
       "      <td>85</td>\n",
       "      <td>80</td>\n",
       "      <td>85</td>\n",
       "      <td>NaN</td>\n",
       "    </tr>\n",
       "    <tr>\n",
       "      <th>3</th>\n",
       "      <td>6번</td>\n",
       "      <td>변덕규</td>\n",
       "      <td>능남고</td>\n",
       "      <td>160</td>\n",
       "      <td>80</td>\n",
       "      <td>90</td>\n",
       "      <td>90</td>\n",
       "      <td>90</td>\n",
       "      <td>75</td>\n",
       "      <td>C</td>\n",
       "    </tr>\n",
       "  </tbody>\n",
       "</table>\n",
       "</div>"
      ],
      "text/plain": [
       "   2번  정대만  북산고  184  40  35  55  35.1  45        Java\n",
       "0  3번  송태섭  북산고  168  85  90  75    75  65  JavaScript\n",
       "1  4번  서태웅  북산고  198  50  60  80    75  80         NaN\n",
       "2  5번  강백호  북산고  186  70  80  85    80  85         NaN\n",
       "3  6번  변덕규  능남고  160  80  90  90    90  75           C"
      ]
     },
     "execution_count": 7,
     "metadata": {},
     "output_type": "execute_result"
    }
   ],
   "source": [
    "df = pd.read_csv('score.csv', skiprows=2, nrows=4)  #처음 2행은 무시, 이후 4행 가져옴 \n",
    "df"
   ]
  },
  {
   "cell_type": "markdown",
   "metadata": {},
   "source": [
    "#df.to_excel('score.xlsx')      # excel 파일로 저장 "
   ]
  },
  {
   "cell_type": "code",
   "execution_count": 5,
   "metadata": {},
   "outputs": [
    {
     "data": {
      "text/html": [
       "<div>\n",
       "<style scoped>\n",
       "    .dataframe tbody tr th:only-of-type {\n",
       "        vertical-align: middle;\n",
       "    }\n",
       "\n",
       "    .dataframe tbody tr th {\n",
       "        vertical-align: top;\n",
       "    }\n",
       "\n",
       "    .dataframe thead th {\n",
       "        text-align: right;\n",
       "    }\n",
       "</style>\n",
       "<table border=\"1\" class=\"dataframe\">\n",
       "  <thead>\n",
       "    <tr style=\"text-align: right;\">\n",
       "      <th></th>\n",
       "      <th>\\t이름\\t학교\\t키\\t국어\\t영어\\t수학\\t특기</th>\n",
       "    </tr>\n",
       "  </thead>\n",
       "  <tbody>\n",
       "    <tr>\n",
       "      <th>0</th>\n",
       "      <td>1번\\t채치수\\t북산고\\t190\\t90\\t90\\t90\\t자바</td>\n",
       "    </tr>\n",
       "    <tr>\n",
       "      <th>1</th>\n",
       "      <td>2번\\t정대만\\t북산고\\t180\\t80\\t80\\t80\\t파이썬</td>\n",
       "    </tr>\n",
       "    <tr>\n",
       "      <th>2</th>\n",
       "      <td>3번\\t홍길동\\t서울고\\t70\\t70\\t70\\t70\\t</td>\n",
       "    </tr>\n",
       "    <tr>\n",
       "      <th>3</th>\n",
       "      <td>4번\\t김갑수\\t서울고\\t80\\t80\\t80\\t80\\t자바</td>\n",
       "    </tr>\n",
       "  </tbody>\n",
       "</table>\n",
       "</div>"
      ],
      "text/plain": [
       "          \\t이름\\t학교\\t키\\t국어\\t영어\\t수학\\t특기\n",
       "0   1번\\t채치수\\t북산고\\t190\\t90\\t90\\t90\\t자바\n",
       "1  2번\\t정대만\\t북산고\\t180\\t80\\t80\\t80\\t파이썬\n",
       "2      3번\\t홍길동\\t서울고\\t70\\t70\\t70\\t70\\t\n",
       "3    4번\\t김갑수\\t서울고\\t80\\t80\\t80\\t80\\t자바"
      ]
     },
     "execution_count": 5,
     "metadata": {},
     "output_type": "execute_result"
    }
   ],
   "source": [
    "df = pd.read_csv('score.csv')\n",
    "df"
   ]
  },
  {
   "cell_type": "code",
   "execution_count": 6,
   "metadata": {},
   "outputs": [
    {
     "data": {
      "text/html": [
       "<div>\n",
       "<style scoped>\n",
       "    .dataframe tbody tr th:only-of-type {\n",
       "        vertical-align: middle;\n",
       "    }\n",
       "\n",
       "    .dataframe tbody tr th {\n",
       "        vertical-align: top;\n",
       "    }\n",
       "\n",
       "    .dataframe thead th {\n",
       "        text-align: right;\n",
       "    }\n",
       "</style>\n",
       "<table border=\"1\" class=\"dataframe\">\n",
       "  <thead>\n",
       "    <tr style=\"text-align: right;\">\n",
       "      <th></th>\n",
       "      <th>1번\\t채치수\\t북산고\\t190\\t90\\t90\\t90\\t자바</th>\n",
       "    </tr>\n",
       "  </thead>\n",
       "  <tbody>\n",
       "    <tr>\n",
       "      <th>0</th>\n",
       "      <td>2번\\t정대만\\t북산고\\t180\\t80\\t80\\t80\\t파이썬</td>\n",
       "    </tr>\n",
       "    <tr>\n",
       "      <th>1</th>\n",
       "      <td>3번\\t홍길동\\t서울고\\t70\\t70\\t70\\t70\\t</td>\n",
       "    </tr>\n",
       "    <tr>\n",
       "      <th>2</th>\n",
       "      <td>4번\\t김갑수\\t서울고\\t80\\t80\\t80\\t80\\t자바</td>\n",
       "    </tr>\n",
       "  </tbody>\n",
       "</table>\n",
       "</div>"
      ],
      "text/plain": [
       "    1번\\t채치수\\t북산고\\t190\\t90\\t90\\t90\\t자바\n",
       "0  2번\\t정대만\\t북산고\\t180\\t80\\t80\\t80\\t파이썬\n",
       "1      3번\\t홍길동\\t서울고\\t70\\t70\\t70\\t70\\t\n",
       "2    4번\\t김갑수\\t서울고\\t80\\t80\\t80\\t80\\t자바"
      ]
     },
     "execution_count": 6,
     "metadata": {},
     "output_type": "execute_result"
    }
   ],
   "source": [
    "df = pd.read_csv('score.csv', skiprows=1, nrows=3)  #처음 1row제외, 이후 3row 가져옴 \n",
    "df"
   ]
  },
  {
   "cell_type": "code",
   "execution_count": null,
   "metadata": {},
   "outputs": [],
   "source": []
  }
 ],
 "metadata": {
  "kernelspec": {
   "display_name": "Python 3",
   "language": "python",
   "name": "python3"
  },
  "language_info": {
   "codemirror_mode": {
    "name": "ipython",
    "version": 3
   },
   "file_extension": ".py",
   "mimetype": "text/x-python",
   "name": "python",
   "nbconvert_exporter": "python",
   "pygments_lexer": "ipython3",
   "version": "3.8.3"
  }
 },
 "nbformat": 4,
 "nbformat_minor": 4
}
